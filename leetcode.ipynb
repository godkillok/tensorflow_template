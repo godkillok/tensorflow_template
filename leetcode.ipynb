{
 "cells": [
  {
   "cell_type": "markdown",
   "metadata": {},
   "source": [
    "# 3. Longest Substring Without Repeating Characters\n",
    "\n",
    "\n",
    "\n",
    "Given a string, find the length of the longest substring without repeating characters.\n",
    "\n",
    "Examples:\n",
    "\n",
    "Given \"abcabcbb\", the answer is \"abc\", which the length is 3.\n",
    "\n",
    "Given \"bbbbb\", the answer is \"b\", with the length of 1.\n",
    "\n",
    "Given \"pwwkew\", the answer is \"wke\", with the length of 3. Note that the answer must be a substring, \"pwke\" is a subsequence and not a substring.\n"
   ]
  },
  {
   "cell_type": "code",
   "execution_count": 2,
   "metadata": {},
   "outputs": [],
   "source": [
    "#\n",
    "def lengthOfLongestSubstring(s):\n",
    "    \"\"\"\n",
    "    :type s: str\n",
    "    :rtype: int\n",
    "    \"\"\"\n",
    "    res = 0\n",
    "    left = 0\n",
    "    d = {}\n",
    "\n",
    "    for i, ch in enumerate(s):\n",
    "        if ch in d and d[ch] >= left: \n",
    "        #主要判断ch是否已经在前面出现过，并且在有效统计的区间内，也就是\n",
    "        \n",
    "            left = d[ch] + 1\n",
    "        d[ch] = i\n",
    "        res = max(res, i - left + 1)\n",
    "    return res"
   ]
  },
  {
   "cell_type": "code",
   "execution_count": 3,
   "metadata": {},
   "outputs": [
    {
     "data": {
      "text/plain": [
       "4"
      ]
     },
     "execution_count": 3,
     "metadata": {},
     "output_type": "execute_result"
    }
   ],
   "source": [
    "lengthOfLongestSubstring('abcbcad')"
   ]
  },
  {
   "cell_type": "code",
   "execution_count": 5,
   "metadata": {},
   "outputs": [
    {
     "name": "stdout",
     "output_type": "stream",
     "text": [
      "2\n",
      "count--2\n",
      "start3\n",
      "the result is 3\n"
     ]
    }
   ],
   "source": [
    "#二分法（while）。找到中间大小的数。计数比中间数小的个数，若这个个数大于数组长度的一半，说明重复数在前半部分，否则在后半部分。然后对应改变查询首尾的值即可。\n",
    "\n",
    "#二分法通常适合于排序好的数组，nlogn的复杂度。当然笼统来说，可以将数组按条件划分，每次都能淘汰一半的情况都可以考虑该方法。\n",
    "def findDuplicate(nums):\n",
    "    \"\"\"\n",
    "    :type nums: List[int]\n",
    "    :rtype: int\n",
    "    \"\"\"\n",
    "    max_=len(nums)-1\n",
    "    start=1\n",
    "    end=max_\n",
    "    mid=nums[0]\n",
    "    count=0\n",
    "    while end>start:\n",
    "        mid=(end+start)//2\n",
    "        print(mid)\n",
    "        count=0\n",
    "        for i in nums:\n",
    "            if i<=mid:\n",
    "                count+=1\n",
    "        print('count--{}'.format(count))\n",
    "        if count>mid:\n",
    "            end=mid\n",
    "            mid=mid\n",
    "            print('end{}'.format(end))\n",
    "        else:\n",
    "            start=mid+1\n",
    "            mid=mid+1\n",
    "            print('start{}'.format(start))\n",
    "    return mid\n",
    "print('the result is {}'.format(findDuplicate([3,3,1,2])))"
   ]
  },
  {
   "cell_type": "markdown",
   "metadata": {},
   "source": [
    "## 153. Find Minimum in Rotated Sorted Array\n",
    "Suppose an array sorted in ascending order is rotated at some pivot unknown to you beforehand.\n",
    "\n",
    "(i.e.,  [0,1,2,4,5,6,7] might become  [4,5,6,7,0,1,2]).\n",
    "\n",
    "Find the minimum element.\n",
    "\n",
    "You may assume no duplicate exists in the array.\n",
    "\n",
    "Input: [3,4,5,1,2] \n",
    "Output: 1"
   ]
  },
  {
   "cell_type": "code",
   "execution_count": 19,
   "metadata": {},
   "outputs": [
    {
     "name": "stdout",
     "output_type": "stream",
     "text": [
      "1\n"
     ]
    }
   ],
   "source": [
    "def findMin(nums):\n",
    "    \"\"\"\n",
    "    :type nums: List[int]\n",
    "    :rtype: int\n",
    "    \"\"\"\n",
    "    #这个主要考虑就一个点是逆序的，所以只要找到了就肯定就是最小\n",
    "    if nums[0]<=nums[-1]:\n",
    "        return nums[0]\n",
    "    max_=nums[0]\n",
    "    for i in range(1,len(nums)):\n",
    "        if max_<nums[i]:\n",
    "            max_=nums[i]\n",
    "        else:\n",
    "            return nums[i]\n",
    "print(findMin([3,4,5,1,2]))"
   ]
  },
  {
   "cell_type": "code",
   "execution_count": 17,
   "metadata": {},
   "outputs": [
    {
     "data": {
      "text/plain": [
       "[1, 2, 3, 3]"
      ]
     },
     "execution_count": 17,
     "metadata": {},
     "output_type": "execute_result"
    }
   ],
   "source": [
    "ge"
   ]
  },
  {
   "cell_type": "code",
   "execution_count": null,
   "metadata": {},
   "outputs": [],
   "source": []
  }
 ],
 "metadata": {
  "kernelspec": {
   "display_name": "Python 3",
   "language": "python",
   "name": "python3"
  },
  "language_info": {
   "codemirror_mode": {
    "name": "ipython",
    "version": 3
   },
   "file_extension": ".py",
   "mimetype": "text/x-python",
   "name": "python",
   "nbconvert_exporter": "python",
   "pygments_lexer": "ipython3",
   "version": "3.5.2"
  }
 },
 "nbformat": 4,
 "nbformat_minor": 2
}
